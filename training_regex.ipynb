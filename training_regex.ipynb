{
 "cells": [
  {
   "cell_type": "code",
   "execution_count": 3,
   "id": "1d28ddd5-9d00-4560-a73c-c2832d10123c",
   "metadata": {},
   "outputs": [],
   "source": [
    "# import regular expressions module"
   ]
  },
  {
   "cell_type": "raw",
   "id": "35aa7326-c601-405d-9857-0a1f711e4619",
   "metadata": {
    "jupyter": {
     "source_hidden": true
    },
    "tags": []
   },
   "source": [
    "import re"
   ]
  },
  {
   "cell_type": "code",
   "execution_count": 2,
   "id": "fc73e46d-1be4-4007-b516-f4894e13023f",
   "metadata": {
    "tags": []
   },
   "outputs": [],
   "source": [
    "# use function to check if s starts with 'H'\n",
    "s = 'Hello regex'"
   ]
  },
  {
   "cell_type": "raw",
   "id": "13424a66-224d-48e5-9d69-cd6da32fb754",
   "metadata": {
    "jupyter": {
     "source_hidden": true
    },
    "tags": []
   },
   "source": [
    "re.match('H', s)"
   ]
  },
  {
   "cell_type": "code",
   "execution_count": null,
   "id": "04c4ba1e-6c6f-4efe-ae75-dd01ff444d12",
   "metadata": {},
   "outputs": [],
   "source": [
    "# use function to check if s contains 'reg'"
   ]
  },
  {
   "cell_type": "raw",
   "id": "356ba318-04bd-4cee-b1a7-96de4e35be4a",
   "metadata": {
    "jupyter": {
     "source_hidden": true
    },
    "tags": []
   },
   "source": [
    "re.search('reg', s)"
   ]
  },
  {
   "cell_type": "code",
   "execution_count": null,
   "id": "b50b4bc9-c2b9-4a82-b49e-9c0a9be37ace",
   "metadata": {},
   "outputs": [],
   "source": [
    "# use function to check if the entire string matches the pattern 'Hello regex'"
   ]
  },
  {
   "cell_type": "raw",
   "id": "a9f1bc1b-7b70-4160-b5de-f02032ef03de",
   "metadata": {
    "jupyter": {
     "source_hidden": true
    },
    "tags": []
   },
   "source": [
    "re.fullmatch('Hello regex', s)"
   ]
  },
  {
   "cell_type": "code",
   "execution_count": null,
   "id": "3b8d2f07-9ba6-4b43-aa3b-8cc2c4060bc9",
   "metadata": {
    "tags": []
   },
   "outputs": [],
   "source": [
    "# find all vowels in s"
   ]
  },
  {
   "cell_type": "raw",
   "id": "b5f57862-1f73-4f2a-8adf-73cc324909c2",
   "metadata": {
    "jupyter": {
     "source_hidden": true
    },
    "tags": []
   },
   "source": [
    "re.findall('e', s)"
   ]
  },
  {
   "cell_type": "code",
   "execution_count": null,
   "id": "3e198df4-a7d2-4aa0-8f3f-ebd3b80470e6",
   "metadata": {
    "tags": []
   },
   "outputs": [],
   "source": [
    "# replace all numbers by x\n",
    "s = 'Tel. +41 76 777 8170 for business'"
   ]
  },
  {
   "cell_type": "raw",
   "id": "8f89586b-6608-45c4-a8d1-649130adbc05",
   "metadata": {
    "jupyter": {
     "source_hidden": true
    },
    "tags": []
   },
   "source": [
    "re.sub('\\d', 'x', s)"
   ]
  },
  {
   "cell_type": "code",
   "execution_count": null,
   "id": "11be11ac-1e43-4fee-88e7-b3de63498141",
   "metadata": {},
   "outputs": [],
   "source": [
    "# make list of all word in s\n",
    "s = 'Regular expressions are, no doubt, a (very) usefull tool.'"
   ]
  },
  {
   "cell_type": "raw",
   "id": "fb383caf-12b7-4a25-8e4b-31c1c4bf0427",
   "metadata": {
    "jupyter": {
     "source_hidden": true
    },
    "tags": []
   },
   "source": [
    "re.findall(r'\\b\\w+\\b', s)"
   ]
  },
  {
   "cell_type": "code",
   "execution_count": null,
   "id": "1cf30b96-fa90-4d23-8eea-47c7e68f1990",
   "metadata": {
    "tags": []
   },
   "outputs": [],
   "source": [
    "# extract date from \n",
    "s = 'Datum: 13.08.1968.'"
   ]
  },
  {
   "cell_type": "raw",
   "id": "96e1bc94-fbad-444e-ac6a-859d377ec4b5",
   "metadata": {
    "jupyter": {
     "source_hidden": true
    },
    "tags": []
   },
   "source": [
    "re.search(r'\\d\\d\\.\\d\\d\\.\\d\\d\\d\\d', s)"
   ]
  },
  {
   "cell_type": "code",
   "execution_count": null,
   "id": "9770406f-432e-4f1e-8504-7e3b23b1722b",
   "metadata": {
    "tags": []
   },
   "outputs": [],
   "source": [
    "# isolate day, month and year in one groupy each"
   ]
  },
  {
   "cell_type": "raw",
   "id": "ef645e7d-4127-4960-90c9-58794170351f",
   "metadata": {
    "jupyter": {
     "source_hidden": true
    },
    "tags": []
   },
   "source": [
    "m = re.search(r'(\\d\\d)\\.(\\d\\d)\\.(\\d\\d\\d\\d)', s)\n",
    "m.group(1), m.group(2), m.group(3)"
   ]
  },
  {
   "cell_type": "code",
   "execution_count": null,
   "id": "506e6173-29f3-41e5-b91b-ae65fa0ea60b",
   "metadata": {},
   "outputs": [],
   "source": [
    "# list all special characters in  s"
   ]
  },
  {
   "cell_type": "raw",
   "id": "a815201b-2956-4cb5-81fc-82f18b9d6b83",
   "metadata": {
    "jupyter": {
     "source_hidden": true
    },
    "tags": []
   },
   "source": [
    "re.findall('\\W', s)"
   ]
  },
  {
   "cell_type": "code",
   "execution_count": null,
   "id": "8e1bd4e3-6bac-40ce-92ab-8683d3cb7da0",
   "metadata": {},
   "outputs": [],
   "source": [
    "# find all big letter words in \n",
    "s = 'The words are SNAKE, MONKEY and EGG.'"
   ]
  },
  {
   "cell_type": "raw",
   "id": "dfb122d6-a6de-4ff2-b24a-0b44d965f9dc",
   "metadata": {
    "jupyter": {
     "source_hidden": true
    },
    "tags": []
   },
   "source": [
    "re.findall(r'\\b[A-Z]+\\b', s)"
   ]
  },
  {
   "cell_type": "code",
   "execution_count": null,
   "id": "44ff21b7-5637-4927-b825-71a1010eb2ca",
   "metadata": {},
   "outputs": [],
   "source": [
    "# list all letters, but not , and ;\n",
    "s = r'a.,b10.\\\\'"
   ]
  },
  {
   "cell_type": "raw",
   "id": "2cfb1fcb-c615-488f-9220-a9b613f79ee5",
   "metadata": {
    "jupyter": {
     "source_hidden": true
    },
    "tags": []
   },
   "source": [
    "re.findall('[^,;]', s)"
   ]
  },
  {
   "cell_type": "code",
   "execution_count": null,
   "id": "7a4731a8-ff78-4cdb-bf18-9d93b0dc7cf3",
   "metadata": {},
   "outputs": [],
   "source": [
    "# find all non printable ascii characters in s \n",
    "s = '„Fix Schwyz!“, quäkt Jürgen blöd vom Paß.'"
   ]
  },
  {
   "cell_type": "raw",
   "id": "15d26aca-512b-4f17-b7b7-6deeb31f4970",
   "metadata": {
    "jupyter": {
     "source_hidden": true
    },
    "tags": []
   },
   "source": [
    "re.findall(r'[^ -~]', s)"
   ]
  },
  {
   "cell_type": "code",
   "execution_count": null,
   "id": "709081af-0e99-4270-a914-6842117e16a1",
   "metadata": {},
   "outputs": [],
   "source": [
    "# extract text between arbitraty tags, use backreference\n",
    "s = '<test>content<test>'"
   ]
  },
  {
   "cell_type": "raw",
   "id": "534d059b-dab5-4a66-ac05-ff1bd0735ffd",
   "metadata": {
    "jupyter": {
     "source_hidden": true
    },
    "tags": []
   },
   "source": [
    "m = re.match(r'(<.+>)(.+)\\1', s)\n",
    "m.group(2)"
   ]
  },
  {
   "cell_type": "markdown",
   "id": "526e8e5a-ff50-4240-ac17-53dc24b00596",
   "metadata": {},
   "source": [
    "https://ihateregex.io/"
   ]
  }
 ],
 "metadata": {
  "kernelspec": {
   "display_name": "Python 3",
   "language": "python",
   "name": "python3"
  },
  "language_info": {
   "codemirror_mode": {
    "name": "ipython",
    "version": 3
   },
   "file_extension": ".py",
   "mimetype": "text/x-python",
   "name": "python",
   "nbconvert_exporter": "python",
   "pygments_lexer": "ipython3",
   "version": "3.8.5"
  }
 },
 "nbformat": 4,
 "nbformat_minor": 5
}
