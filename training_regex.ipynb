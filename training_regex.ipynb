{
 "cells": [
  {
   "cell_type": "code",
   "execution_count": null,
   "id": "1d28ddd5-9d00-4560-a73c-c2832d10123c",
   "metadata": {},
   "outputs": [],
   "source": [
    "# import regular expressions module\n",
    "import re"
   ]
  },
  {
   "cell_type": "code",
   "execution_count": null,
   "id": "a4cb3ffe-02a0-474a-92a4-045be0124ef3",
   "metadata": {
    "jupyter": {
     "source_hidden": true
    },
    "tags": []
   },
   "outputs": [],
   "source": [
    "import re"
   ]
  },
  {
   "cell_type": "code",
   "execution_count": null,
   "id": "fc73e46d-1be4-4007-b516-f4894e13023f",
   "metadata": {},
   "outputs": [],
   "source": [
    "# use function to check if s starts with 'H'\n",
    "s = 'Hello regex'\n",
    "re.match('H', s)"
   ]
  },
  {
   "cell_type": "code",
   "execution_count": null,
   "id": "49601db0-dc90-473a-b202-fa653e0ca5f5",
   "metadata": {
    "jupyter": {
     "source_hidden": true
    },
    "tags": []
   },
   "outputs": [],
   "source": [
    "re.match('H', s)"
   ]
  },
  {
   "cell_type": "code",
   "execution_count": null,
   "id": "04c4ba1e-6c6f-4efe-ae75-dd01ff444d12",
   "metadata": {},
   "outputs": [],
   "source": [
    "# use function to check if s contains reg\n",
    "re.search('reg', s)"
   ]
  },
  {
   "cell_type": "code",
   "execution_count": null,
   "id": "b04d175d-541f-4b90-8750-3fd37891b12f",
   "metadata": {
    "jupyter": {
     "source_hidden": true
    },
    "tags": []
   },
   "outputs": [],
   "source": [
    "re.search('reg', s)"
   ]
  },
  {
   "cell_type": "code",
   "execution_count": null,
   "id": "b50b4bc9-c2b9-4a82-b49e-9c0a9be37ace",
   "metadata": {},
   "outputs": [],
   "source": [
    "# use function to check if the entire string matches the pattern 'Hello regex'\n",
    "re.fullmatch('Hello regex', s)"
   ]
  },
  {
   "cell_type": "code",
   "execution_count": null,
   "id": "67a2c569-ccc9-4aed-8088-ca0cb9d21d59",
   "metadata": {
    "jupyter": {
     "source_hidden": true
    },
    "tags": []
   },
   "outputs": [],
   "source": [
    "re.fullmatch('Hello regex', s)"
   ]
  },
  {
   "cell_type": "code",
   "execution_count": null,
   "id": "3b8d2f07-9ba6-4b43-aa3b-8cc2c4060bc9",
   "metadata": {
    "tags": []
   },
   "outputs": [],
   "source": [
    "# find all 'e' in s"
   ]
  },
  {
   "cell_type": "code",
   "execution_count": null,
   "id": "f14a86b7-f577-4fe2-8bfd-4a95433d980a",
   "metadata": {
    "jupyter": {
     "source_hidden": true
    },
    "tags": []
   },
   "outputs": [],
   "source": [
    "re.findall('e', s)"
   ]
  },
  {
   "cell_type": "code",
   "execution_count": null,
   "id": "3e198df4-a7d2-4aa0-8f3f-ebd3b80470e6",
   "metadata": {
    "tags": []
   },
   "outputs": [],
   "source": [
    "# replace all numbers by x\n",
    "s = 'Tel. +41 76 777 8170 for business'"
   ]
  },
  {
   "cell_type": "code",
   "execution_count": null,
   "id": "b696a03c-e59f-4bf2-bc64-fc54818349a4",
   "metadata": {
    "jupyter": {
     "source_hidden": true
    },
    "tags": []
   },
   "outputs": [],
   "source": [
    "re.sub('\\d', 'x', s)"
   ]
  },
  {
   "cell_type": "code",
   "execution_count": null,
   "id": "11be11ac-1e43-4fee-88e7-b3de63498141",
   "metadata": {},
   "outputs": [],
   "source": [
    "# make list of all word in \n",
    "s = 'Regular expressions are, no doubt, a (very) usefull tool.'"
   ]
  },
  {
   "cell_type": "code",
   "execution_count": null,
   "id": "15813126-b0b1-4f0e-aca5-dd54fc3b265c",
   "metadata": {
    "jupyter": {
     "source_hidden": true
    },
    "tags": []
   },
   "outputs": [],
   "source": [
    "re.findall(r'\\b\\w+\\b', s)"
   ]
  },
  {
   "cell_type": "code",
   "execution_count": null,
   "id": "1cf30b96-fa90-4d23-8eea-47c7e68f1990",
   "metadata": {},
   "outputs": [],
   "source": [
    "# extract date from \n",
    "s = 'Datum: 13.08.1968.'"
   ]
  },
  {
   "cell_type": "code",
   "execution_count": null,
   "id": "b21183a1-f07b-43af-aa68-a5d3671c2f62",
   "metadata": {
    "jupyter": {
     "source_hidden": true
    },
    "tags": []
   },
   "outputs": [],
   "source": [
    "re.search(r'\\d\\d\\.\\d\\d\\.\\d\\d\\d\\d', s)"
   ]
  },
  {
   "cell_type": "code",
   "execution_count": null,
   "id": "9770406f-432e-4f1e-8504-7e3b23b1722b",
   "metadata": {
    "tags": []
   },
   "outputs": [],
   "source": [
    "# isolate day, month and year in one groupy each"
   ]
  },
  {
   "cell_type": "code",
   "execution_count": null,
   "id": "abd45237-4d53-4808-a1d9-4ddac1ce0f47",
   "metadata": {
    "jupyter": {
     "source_hidden": true
    },
    "tags": []
   },
   "outputs": [],
   "source": [
    "m = re.search(r'(\\d\\d)\\.(\\d\\d)\\.(\\d\\d\\d\\d)', s)\n",
    "m.group(1), m.group(2), m.group(3)"
   ]
  },
  {
   "cell_type": "code",
   "execution_count": null,
   "id": "506e6173-29f3-41e5-b91b-ae65fa0ea60b",
   "metadata": {},
   "outputs": [],
   "source": [
    "# list all special characters in  s"
   ]
  },
  {
   "cell_type": "code",
   "execution_count": null,
   "id": "0176167f-5d5d-4510-8783-52235fc8a006",
   "metadata": {
    "jupyter": {
     "source_hidden": true
    },
    "tags": []
   },
   "outputs": [],
   "source": [
    "re.findall('\\W', s)"
   ]
  },
  {
   "cell_type": "code",
   "execution_count": null,
   "id": "8e1bd4e3-6bac-40ce-92ab-8683d3cb7da0",
   "metadata": {},
   "outputs": [],
   "source": [
    "# find all big letter words in \n",
    "s = 'The words are SNAKE, MONKEY and EGG.'"
   ]
  },
  {
   "cell_type": "code",
   "execution_count": null,
   "id": "2d0d7dca-6afc-403e-9d8c-87f4fb5b6c93",
   "metadata": {
    "jupyter": {
     "source_hidden": true
    },
    "tags": []
   },
   "outputs": [],
   "source": [
    "re.findall(r'\\b[A-Z]+\\b', s)"
   ]
  },
  {
   "cell_type": "code",
   "execution_count": null,
   "id": "44ff21b7-5637-4927-b825-71a1010eb2ca",
   "metadata": {},
   "outputs": [],
   "source": [
    "# list all letters, but not , and ;\n",
    "s = r'a.,b10.\\\\'"
   ]
  },
  {
   "cell_type": "code",
   "execution_count": null,
   "id": "661a96b4-87ca-477c-9202-304da48ad839",
   "metadata": {
    "jupyter": {
     "source_hidden": true
    },
    "tags": []
   },
   "outputs": [],
   "source": [
    "re.findall('[^,;]', s)"
   ]
  },
  {
   "cell_type": "code",
   "execution_count": null,
   "id": "7a4731a8-ff78-4cdb-bf18-9d93b0dc7cf3",
   "metadata": {},
   "outputs": [],
   "source": [
    "# find all non ascii characters () in \n",
    "s = '„Fix Schwyz!“, quäkt Jürgen blöd vom Paß.'"
   ]
  },
  {
   "cell_type": "code",
   "execution_count": null,
   "id": "294079d6-9ca1-4d71-9aa8-13c86e6ee2b8",
   "metadata": {
    "jupyter": {
     "source_hidden": true
    },
    "tags": []
   },
   "outputs": [],
   "source": [
    "re.findall(r'[^\\x00-\\x7F]', s)"
   ]
  }
 ],
 "metadata": {
  "kernelspec": {
   "display_name": "Python 3",
   "language": "python",
   "name": "python3"
  },
  "language_info": {
   "codemirror_mode": {
    "name": "ipython",
    "version": 3
   },
   "file_extension": ".py",
   "mimetype": "text/x-python",
   "name": "python",
   "nbconvert_exporter": "python",
   "pygments_lexer": "ipython3",
   "version": "3.8.5"
  }
 },
 "nbformat": 4,
 "nbformat_minor": 5
}
