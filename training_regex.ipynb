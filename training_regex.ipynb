{
 "cells": [
  {
   "cell_type": "code",
   "execution_count": null,
   "id": "1d28ddd5-9d00-4560-a73c-c2832d10123c",
   "metadata": {},
   "outputs": [],
   "source": [
    "# import regular expressions module"
   ]
  },
  {
   "cell_type": "code",
   "execution_count": null,
   "id": "a4cb3ffe-02a0-474a-92a4-045be0124ef3",
   "metadata": {
    "jupyter": {
     "source_hidden": true
    },
    "tags": []
   },
   "outputs": [],
   "source": [
    "import re"
   ]
  },
  {
   "cell_type": "code",
   "execution_count": null,
   "id": "777537bf-6bba-48a6-b4c7-874fa8d32fbe",
   "metadata": {},
   "outputs": [],
   "source": [
    "# set variable s to 'Hello regex'"
   ]
  },
  {
   "cell_type": "code",
   "execution_count": null,
   "id": "f2af685b-2c4b-48cc-8196-8a6da1240f75",
   "metadata": {
    "jupyter": {
     "source_hidden": true
    },
    "tags": []
   },
   "outputs": [],
   "source": [
    "s = 'Hello regex'"
   ]
  },
  {
   "cell_type": "code",
   "execution_count": null,
   "id": "fc73e46d-1be4-4007-b516-f4894e13023f",
   "metadata": {},
   "outputs": [],
   "source": [
    "# use function if s starts with 'H'"
   ]
  },
  {
   "cell_type": "code",
   "execution_count": null,
   "id": "49601db0-dc90-473a-b202-fa653e0ca5f5",
   "metadata": {
    "jupyter": {
     "source_hidden": true
    },
    "tags": []
   },
   "outputs": [],
   "source": [
    "re.match('H', s)"
   ]
  },
  {
   "cell_type": "code",
   "execution_count": null,
   "id": "04c4ba1e-6c6f-4efe-ae75-dd01ff444d12",
   "metadata": {},
   "outputs": [],
   "source": [
    "# use function to check if s contains reg"
   ]
  },
  {
   "cell_type": "code",
   "execution_count": null,
   "id": "b04d175d-541f-4b90-8750-3fd37891b12f",
   "metadata": {
    "jupyter": {
     "source_hidden": true
    },
    "tags": []
   },
   "outputs": [],
   "source": [
    "re.search('reg', s)"
   ]
  },
  {
   "cell_type": "code",
   "execution_count": null,
   "id": "b50b4bc9-c2b9-4a82-b49e-9c0a9be37ace",
   "metadata": {},
   "outputs": [],
   "source": [
    "# use function to check if the entire string matches the pattern 'Hello regex'"
   ]
  },
  {
   "cell_type": "code",
   "execution_count": null,
   "id": "67a2c569-ccc9-4aed-8088-ca0cb9d21d59",
   "metadata": {
    "jupyter": {
     "source_hidden": true
    },
    "tags": []
   },
   "outputs": [],
   "source": [
    "re.fullmatch('Hello regex', s)"
   ]
  },
  {
   "cell_type": "code",
   "execution_count": null,
   "id": "3b8d2f07-9ba6-4b43-aa3b-8cc2c4060bc9",
   "metadata": {},
   "outputs": [],
   "source": [
    "# find all 'e'"
   ]
  },
  {
   "cell_type": "code",
   "execution_count": null,
   "id": "f14a86b7-f577-4fe2-8bfd-4a95433d980a",
   "metadata": {
    "jupyter": {
     "source_hidden": true
    },
    "tags": []
   },
   "outputs": [],
   "source": [
    "re.findall('e', s)"
   ]
  }
 ],
 "metadata": {
  "kernelspec": {
   "display_name": "Python 3",
   "language": "python",
   "name": "python3"
  },
  "language_info": {
   "codemirror_mode": {
    "name": "ipython",
    "version": 3
   },
   "file_extension": ".py",
   "mimetype": "text/x-python",
   "name": "python",
   "nbconvert_exporter": "python",
   "pygments_lexer": "ipython3",
   "version": "3.8.5"
  }
 },
 "nbformat": 4,
 "nbformat_minor": 5
}
