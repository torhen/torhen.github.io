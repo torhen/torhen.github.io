{
 "cells": [
  {
   "cell_type": "code",
   "execution_count": null,
   "id": "f5487d82",
   "metadata": {},
   "outputs": [],
   "source": [
    "# block command following lines\n",
    "def add(x, y):\n",
    "    return x + y"
   ]
  },
  {
   "cell_type": "code",
   "execution_count": null,
   "id": "40f9975d",
   "metadata": {
    "jupyter": {
     "source_hidden": true
    },
    "tags": []
   },
   "outputs": [],
   "source": [
    "# solution: use ctrl + / (numper pad)"
   ]
  },
  {
   "cell_type": "code",
   "execution_count": null,
   "id": "7985f117",
   "metadata": {},
   "outputs": [],
   "source": [
    "# change with multicursor\n",
    "print('test')\n",
    "print('test')\n",
    "print('test')"
   ]
  },
  {
   "cell_type": "code",
   "execution_count": null,
   "id": "15617ad2",
   "metadata": {
    "jupyter": {
     "source_hidden": true
    },
    "tags": []
   },
   "outputs": [],
   "source": [
    "# solution: press alt and move mouse down"
   ]
  },
  {
   "cell_type": "code",
   "execution_count": null,
   "id": "1c7523b5",
   "metadata": {
    "tags": []
   },
   "outputs": [],
   "source": [
    "# split cell"
   ]
  },
  {
   "cell_type": "code",
   "execution_count": null,
   "id": "ce3fc07b",
   "metadata": {
    "jupyter": {
     "source_hidden": true
    },
    "tags": []
   },
   "outputs": [],
   "source": [
    "# solution: ctrl + shift + - (number pad)"
   ]
  },
  {
   "cell_type": "code",
   "execution_count": null,
   "id": "75a13105",
   "metadata": {
    "tags": []
   },
   "outputs": [],
   "source": [
    "# select multiple cells"
   ]
  },
  {
   "cell_type": "code",
   "execution_count": null,
   "id": "fe8b094d",
   "metadata": {
    "jupyter": {
     "source_hidden": true
    },
    "tags": []
   },
   "outputs": [],
   "source": [
    "# solution: shift + down, or shift + click inside [ ]"
   ]
  },
  {
   "cell_type": "code",
   "execution_count": null,
   "id": "3380fb16",
   "metadata": {
    "tags": []
   },
   "outputs": [],
   "source": [
    "# merge two cells"
   ]
  },
  {
   "cell_type": "code",
   "execution_count": null,
   "id": "b6bab6ed",
   "metadata": {
    "tags": []
   },
   "outputs": [],
   "source": [
    "# solution: select cells, shift + m"
   ]
  }
 ],
 "metadata": {
  "kernelspec": {
   "display_name": "Python 3",
   "language": "python",
   "name": "python3"
  },
  "language_info": {
   "codemirror_mode": {
    "name": "ipython",
    "version": 3
   },
   "file_extension": ".py",
   "mimetype": "text/x-python",
   "name": "python",
   "nbconvert_exporter": "python",
   "pygments_lexer": "ipython3",
   "version": "3.7.10"
  }
 },
 "nbformat": 4,
 "nbformat_minor": 5
}
