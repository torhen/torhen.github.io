{
 "cells": [
  {
   "cell_type": "code",
   "execution_count": null,
   "id": "b35e1554",
   "metadata": {},
   "outputs": [],
   "source": [
    "# block command following lines\n",
    "def add(x, y):\n",
    "    return x + y"
   ]
  },
  {
   "cell_type": "code",
   "execution_count": null,
   "id": "8481b7e2",
   "metadata": {
    "jupyter": {
     "source_hidden": true
    },
    "tags": []
   },
   "outputs": [],
   "source": [
    "# solution: use ctrl + / (numper pad)"
   ]
  },
  {
   "cell_type": "code",
   "execution_count": null,
   "id": "5ff9bbef",
   "metadata": {},
   "outputs": [],
   "source": [
    "# change with multicursor\n",
    "print('test')\n",
    "print('test')\n",
    "print('test')"
   ]
  },
  {
   "cell_type": "code",
   "execution_count": null,
   "id": "5f3baf42",
   "metadata": {
    "jupyter": {
     "source_hidden": true
    },
    "tags": []
   },
   "outputs": [],
   "source": [
    "# solution: press alt and move mouse down"
   ]
  },
  {
   "cell_type": "code",
   "execution_count": null,
   "id": "95fee1d7",
   "metadata": {
    "tags": []
   },
   "outputs": [],
   "source": [
    "# split cell"
   ]
  },
  {
   "cell_type": "code",
   "execution_count": null,
   "id": "e09150da",
   "metadata": {
    "jupyter": {
     "source_hidden": true
    },
    "tags": []
   },
   "outputs": [],
   "source": [
    "# solution: ctrl + shift + - (number pad)"
   ]
  },
  {
   "cell_type": "code",
   "execution_count": null,
   "id": "929d1b98",
   "metadata": {
    "tags": []
   },
   "outputs": [],
   "source": [
    "# select multiple cells"
   ]
  },
  {
   "cell_type": "code",
   "execution_count": null,
   "id": "e9c10aab",
   "metadata": {
    "jupyter": {
     "source_hidden": true
    },
    "tags": []
   },
   "outputs": [],
   "source": [
    "# solution: shift + down, or shift + click inside [ ]"
   ]
  },
  {
   "cell_type": "code",
   "execution_count": null,
   "id": "ee441b6d",
   "metadata": {
    "tags": []
   },
   "outputs": [],
   "source": [
    "# merge two cells"
   ]
  },
  {
   "cell_type": "code",
   "execution_count": null,
   "id": "a42d63d5",
   "metadata": {
    "jupyter": {
     "source_hidden": true
    },
    "tags": []
   },
   "outputs": [],
   "source": [
    "# solution: select cells, shift + m"
   ]
  }
 ],
 "metadata": {
  "kernelspec": {
   "display_name": "Python 3",
   "language": "python",
   "name": "python3"
  },
  "language_info": {
   "codemirror_mode": {
    "name": "ipython",
    "version": 3
   },
   "file_extension": ".py",
   "mimetype": "text/x-python",
   "name": "python",
   "nbconvert_exporter": "python",
   "pygments_lexer": "ipython3",
   "version": "3.7.10"
  }
 },
 "nbformat": 4,
 "nbformat_minor": 5
}
