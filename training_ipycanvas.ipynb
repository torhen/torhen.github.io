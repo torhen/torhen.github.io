{
 "cells": [
  {
   "cell_type": "code",
   "execution_count": null,
   "id": "1958400f-2e79-4500-b105-df87d3e1bd12",
   "metadata": {},
   "outputs": [],
   "source": [
    "# import main class"
   ]
  },
  {
   "cell_type": "code",
   "execution_count": null,
   "id": "0765e410-5526-4479-95c3-821314c2cd02",
   "metadata": {
    "jupyter": {
     "source_hidden": true
    },
    "tags": []
   },
   "outputs": [],
   "source": [
    "from ipycanvas import Canvas"
   ]
  },
  {
   "cell_type": "code",
   "execution_count": null,
   "id": "192e28c1-e504-492a-9816-4917f7b373a8",
   "metadata": {},
   "outputs": [],
   "source": [
    "# create canvas and show it"
   ]
  },
  {
   "cell_type": "code",
   "execution_count": null,
   "id": "cdb96527-f724-48c4-b395-17d8679e332b",
   "metadata": {
    "jupyter": {
     "source_hidden": true
    },
    "tags": []
   },
   "outputs": [],
   "source": [
    "can = Canvas()\n",
    "can"
   ]
  },
  {
   "cell_type": "code",
   "execution_count": null,
   "id": "5f7b5089-7b39-41b1-a675-e6e70565e2f2",
   "metadata": {},
   "outputs": [],
   "source": [
    "# draw a outline rectangle"
   ]
  },
  {
   "cell_type": "code",
   "execution_count": null,
   "id": "0eb7ee42-1bc9-4d40-b202-d4fb85b7f619",
   "metadata": {
    "jupyter": {
     "source_hidden": true
    },
    "tags": []
   },
   "outputs": [],
   "source": [
    "can.stroke_rect(0, 0, can.width, can.height)"
   ]
  },
  {
   "cell_type": "code",
   "execution_count": null,
   "id": "89dea70f-311a-456c-997a-0e39432da86c",
   "metadata": {},
   "outputs": [],
   "source": [
    "# draw a filled, red circle"
   ]
  },
  {
   "cell_type": "code",
   "execution_count": null,
   "id": "1dda8be2-b70f-4dd8-8f0c-7e2861a35ee0",
   "metadata": {
    "jupyter": {
     "source_hidden": true
    },
    "tags": []
   },
   "outputs": [],
   "source": [
    "can.fill_style = 'red'\n",
    "can.fill_circle(100, 100, 50)"
   ]
  },
  {
   "cell_type": "code",
   "execution_count": null,
   "id": "1040c1e9-7751-4d99-a7d3-263395a43558",
   "metadata": {},
   "outputs": [],
   "source": [
    "# draw a blue diagonal lin"
   ]
  },
  {
   "cell_type": "code",
   "execution_count": null,
   "id": "6f953e56-83a6-49b9-a46c-9fab6c055f94",
   "metadata": {
    "jupyter": {
     "source_hidden": true
    },
    "tags": []
   },
   "outputs": [],
   "source": [
    "can.stroke_style = 'blue'\n",
    "can.stroke_line(0, 0, can.width, can.height)"
   ]
  },
  {
   "cell_type": "code",
   "execution_count": null,
   "id": "707d8fe1-b220-4f53-b75a-dce699184b5a",
   "metadata": {},
   "outputs": [],
   "source": [
    "# write 'Hello canvas'"
   ]
  },
  {
   "cell_type": "code",
   "execution_count": null,
   "id": "b19ada00-a178-4749-ba38-5734ecec53a9",
   "metadata": {
    "jupyter": {
     "source_hidden": true
    },
    "tags": []
   },
   "outputs": [],
   "source": [
    "can.fill_text('Hello canvas', 200, 200)"
   ]
  },
  {
   "cell_type": "code",
   "execution_count": null,
   "id": "b3e012b3-0407-4ba5-847d-00851c46c585",
   "metadata": {},
   "outputs": [],
   "source": [
    "# set font to 32 pixel without serifs"
   ]
  },
  {
   "cell_type": "code",
   "execution_count": null,
   "id": "22f2e1ef-6d1c-4708-91ac-416577ff1433",
   "metadata": {
    "jupyter": {
     "source_hidden": true
    },
    "tags": []
   },
   "outputs": [],
   "source": [
    "can.font = '32px sans-serif'\n",
    "can.fill_style = 'black'\n",
    "can.fill_text('Hello canvas', 300, 300)"
   ]
  },
  {
   "cell_type": "code",
   "execution_count": null,
   "id": "bbdef1c8",
   "metadata": {},
   "outputs": [],
   "source": []
  }
 ],
 "metadata": {
  "kernelspec": {
   "display_name": "Python 3",
   "language": "python",
   "name": "python3"
  },
  "language_info": {
   "codemirror_mode": {
    "name": "ipython",
    "version": 3
   },
   "file_extension": ".py",
   "mimetype": "text/x-python",
   "name": "python",
   "nbconvert_exporter": "python",
   "pygments_lexer": "ipython3",
   "version": "3.8.5"
  }
 },
 "nbformat": 4,
 "nbformat_minor": 5
}
