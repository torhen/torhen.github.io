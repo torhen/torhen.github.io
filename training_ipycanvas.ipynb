{
 "cells": [
  {
   "cell_type": "code",
   "execution_count": 5,
   "id": "ab40c442",
   "metadata": {},
   "outputs": [],
   "source": [
    "# import main class\n",
    "from ipycanvas import Canvas"
   ]
  },
  {
   "cell_type": "code",
   "execution_count": 8,
   "id": "944d307e",
   "metadata": {},
   "outputs": [
    {
     "data": {
      "application/vnd.jupyter.widget-view+json": {
       "model_id": "6107d6620bf34b35a668ee0b308365a3",
       "version_major": 2,
       "version_minor": 0
      },
      "text/plain": [
       "Canvas()"
      ]
     },
     "metadata": {},
     "output_type": "display_data"
    }
   ],
   "source": [
    "# create canvas and show it\n",
    "can = Canvas()\n",
    "can"
   ]
  },
  {
   "cell_type": "code",
   "execution_count": 10,
   "id": "21eb147b",
   "metadata": {},
   "outputs": [],
   "source": [
    "# draw a outlinerectangle\n",
    "can.stroke_rect(0, 0, can.width, can.height)"
   ]
  },
  {
   "cell_type": "code",
   "execution_count": 11,
   "id": "0b59a7fe",
   "metadata": {},
   "outputs": [],
   "source": [
    "# draw a filled, red circle\n",
    "can.fill_style = 'red'\n",
    "can.fill_circle(100, 100, 50)"
   ]
  },
  {
   "cell_type": "code",
   "execution_count": 13,
   "id": "65a7ebc4",
   "metadata": {},
   "outputs": [],
   "source": [
    "# draw a blue diagonal lin\n",
    "can.stroke_style = 'blue'\n",
    "can.stroke_line(0, 0, can.width, can.height)"
   ]
  },
  {
   "cell_type": "code",
   "execution_count": 27,
   "id": "492c510a",
   "metadata": {},
   "outputs": [],
   "source": [
    "# write 'Hello canvas'\n",
    "can.fill_text('Hello canvas', 200, 200)"
   ]
  },
  {
   "cell_type": "code",
   "execution_count": 28,
   "id": "82807637",
   "metadata": {},
   "outputs": [],
   "source": [
    "# set font to 32 pixel without serifs\n",
    "can.font = '32px sans-serif'\n",
    "can.fill_style = 'black'\n",
    "can.fill_text('Hello canvas', 300, 300)"
   ]
  },
  {
   "cell_type": "code",
   "execution_count": null,
   "id": "bbdef1c8",
   "metadata": {},
   "outputs": [],
   "source": []
  }
 ],
 "metadata": {
  "kernelspec": {
   "display_name": "Python 3",
   "language": "python",
   "name": "python3"
  },
  "language_info": {
   "codemirror_mode": {
    "name": "ipython",
    "version": 3
   },
   "file_extension": ".py",
   "mimetype": "text/x-python",
   "name": "python",
   "nbconvert_exporter": "python",
   "pygments_lexer": "ipython3",
   "version": "3.7.10"
  }
 },
 "nbformat": 4,
 "nbformat_minor": 5
}
