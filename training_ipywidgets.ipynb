{
 "cells": [
  {
   "cell_type": "code",
   "execution_count": null,
   "id": "9be700af-efca-4c47-be52-12d7dac61a25",
   "metadata": {
    "tags": []
   },
   "outputs": [],
   "source": [
    "# import numpy and matplotlb"
   ]
  },
  {
   "cell_type": "code",
   "execution_count": null,
   "id": "354f4824-11c3-4d22-a8af-f67c2f0f9dbf",
   "metadata": {
    "jupyter": {
     "source_hidden": true
    },
    "tags": []
   },
   "outputs": [],
   "source": [
    "import numpy as np\n",
    "import matplotlib.pyplot as plt"
   ]
  },
  {
   "cell_type": "code",
   "execution_count": null,
   "id": "ce361dec-abb7-4f21-95a1-60d01aee9f0f",
   "metadata": {},
   "outputs": [],
   "source": [
    "# import interact from ipywidgets"
   ]
  },
  {
   "cell_type": "code",
   "execution_count": null,
   "id": "97d427d5-b6af-48dc-9c96-7e63af93993a",
   "metadata": {
    "jupyter": {
     "source_hidden": true
    },
    "tags": []
   },
   "outputs": [],
   "source": [
    "from ipywidgets import interact"
   ]
  },
  {
   "cell_type": "code",
   "execution_count": null,
   "id": "22d0c748-e961-4b1a-851d-0596167cee92",
   "metadata": {},
   "outputs": [],
   "source": [
    "# create variable n with 2.0"
   ]
  },
  {
   "cell_type": "code",
   "execution_count": null,
   "id": "d5983ad6-da97-405c-83e8-2adf91cc364b",
   "metadata": {
    "jupyter": {
     "source_hidden": true
    },
    "tags": []
   },
   "outputs": [],
   "source": [
    "n = 2"
   ]
  },
  {
   "cell_type": "code",
   "execution_count": null,
   "id": "11d7f2f6-d11a-4625-83b8-63361b3910a8",
   "metadata": {},
   "outputs": [],
   "source": [
    "# create numpy array 0...n* pi, 100 values"
   ]
  },
  {
   "cell_type": "code",
   "execution_count": null,
   "id": "05dce99c-8194-4df3-bf41-ed962086cb4f",
   "metadata": {
    "jupyter": {
     "source_hidden": true
    },
    "tags": []
   },
   "outputs": [],
   "source": [
    "x = np.linspace(0, n * np.pi, 100)"
   ]
  },
  {
   "cell_type": "code",
   "execution_count": null,
   "id": "42a5b791-5a90-41a8-9a44-827404dc0184",
   "metadata": {},
   "outputs": [],
   "source": [
    "# create array y as sin from x"
   ]
  },
  {
   "cell_type": "code",
   "execution_count": null,
   "id": "3989333d-a974-4e05-9b09-1a1ef856944d",
   "metadata": {
    "jupyter": {
     "source_hidden": true
    },
    "tags": []
   },
   "outputs": [],
   "source": [
    "y = np.sin(x)"
   ]
  },
  {
   "cell_type": "code",
   "execution_count": null,
   "id": "9e88a2db-fea9-425e-90eb-c24ed09a087c",
   "metadata": {},
   "outputs": [],
   "source": [
    "# create matplotlib figure and add subplot"
   ]
  },
  {
   "cell_type": "code",
   "execution_count": null,
   "id": "0aeb8d57-3242-46d7-9687-3f0776a7fb34",
   "metadata": {
    "jupyter": {
     "source_hidden": true
    },
    "tags": []
   },
   "outputs": [],
   "source": [
    "fig = plt.figure()\n",
    "ax = fig.add_subplot()"
   ]
  },
  {
   "cell_type": "code",
   "execution_count": null,
   "id": "526c2b21-91db-498c-9640-643df003997e",
   "metadata": {},
   "outputs": [],
   "source": [
    "# plot x and y"
   ]
  },
  {
   "cell_type": "code",
   "execution_count": null,
   "id": "fc7649bc-cb94-4257-b62d-c936bc3c3143",
   "metadata": {
    "jupyter": {
     "source_hidden": true
    },
    "tags": []
   },
   "outputs": [],
   "source": [
    "ax.plot(x, y)\n",
    "fig"
   ]
  },
  {
   "cell_type": "code",
   "execution_count": null,
   "id": "517b6169-f5fc-428a-b321-bda4d4581098",
   "metadata": {},
   "outputs": [],
   "source": [
    "# create function plot(n), set default argument = 2"
   ]
  },
  {
   "cell_type": "code",
   "execution_count": null,
   "id": "6cb87df6-0cc9-43a3-990b-0b5e00426890",
   "metadata": {
    "jupyter": {
     "source_hidden": true
    },
    "tags": []
   },
   "outputs": [],
   "source": [
    "def plot(n=2):\n",
    "    x = np.linspace(0, np.pi * n, 100)\n",
    "    y = np.sin(x)\n",
    "    fig = plt.figure(figsize=(8, 5))\n",
    "    ax = fig.add_subplot()\n",
    "    ax.plot(x, y)"
   ]
  },
  {
   "cell_type": "code",
   "execution_count": null,
   "id": "2ae5481b-9242-4138-a683-638cd04bb921",
   "metadata": {
    "tags": []
   },
   "outputs": [],
   "source": [
    "# test plot()"
   ]
  },
  {
   "cell_type": "code",
   "execution_count": null,
   "id": "984a1730-7918-41e9-84db-0c879231f9fb",
   "metadata": {
    "jupyter": {
     "source_hidden": true
    },
    "tags": []
   },
   "outputs": [],
   "source": [
    "plot(2)"
   ]
  },
  {
   "cell_type": "code",
   "execution_count": null,
   "id": "3f47c3bb-9ed5-4d36-8f88-c6e344380450",
   "metadata": {
    "tags": []
   },
   "outputs": [],
   "source": [
    "# run interact"
   ]
  },
  {
   "cell_type": "code",
   "execution_count": null,
   "id": "7c8403c9-8b44-4e4a-9821-537b9cf20ec5",
   "metadata": {
    "jupyter": {
     "source_hidden": true
    },
    "tags": []
   },
   "outputs": [],
   "source": [
    "interact(plot)"
   ]
  },
  {
   "cell_type": "code",
   "execution_count": null,
   "id": "933d64c1-fe0c-42be-a9f5-e0350133210a",
   "metadata": {},
   "outputs": [],
   "source": [
    "# add argument to plot that swich on grid, default True"
   ]
  },
  {
   "cell_type": "code",
   "execution_count": null,
   "id": "2b9c7cb4-01a4-413d-964f-deb40d99bf88",
   "metadata": {
    "jupyter": {
     "source_hidden": true
    },
    "tags": []
   },
   "outputs": [],
   "source": [
    "def plot(n=2, grid=True):\n",
    "    x = np.linspace(0, np.pi * n, 100)\n",
    "    y = np.sin(x)\n",
    "    fig = plt.figure(figsize=(8, 5))\n",
    "    ax = fig.add_subplot()\n",
    "    ax.grid(grid)\n",
    "    ax.plot(x, y)"
   ]
  },
  {
   "cell_type": "code",
   "execution_count": null,
   "id": "835fd703-055b-4a0f-b879-b25aea80d1cb",
   "metadata": {},
   "outputs": [],
   "source": [
    "# run interact"
   ]
  },
  {
   "cell_type": "code",
   "execution_count": null,
   "id": "520064fe-e703-4a89-81c5-543d28927d77",
   "metadata": {
    "jupyter": {
     "source_hidden": true
    },
    "tags": []
   },
   "outputs": [],
   "source": [
    "interact(plot)"
   ]
  },
  {
   "cell_type": "code",
   "execution_count": null,
   "id": "45d8146e-69e1-44d3-8182-bf12a7057e77",
   "metadata": {},
   "outputs": [],
   "source": [
    "# run voila"
   ]
  },
  {
   "cell_type": "code",
   "execution_count": null,
   "id": "1e23c156-439c-4032-928d-ee2a38d89fb0",
   "metadata": {
    "jupyter": {
     "source_hidden": true
    },
    "tags": []
   },
   "outputs": [],
   "source": [
    "!voila"
   ]
  }
 ],
 "metadata": {
  "kernelspec": {
   "display_name": "Python 3",
   "language": "python",
   "name": "python3"
  },
  "language_info": {
   "codemirror_mode": {
    "name": "ipython",
    "version": 3
   },
   "file_extension": ".py",
   "mimetype": "text/x-python",
   "name": "python",
   "nbconvert_exporter": "python",
   "pygments_lexer": "ipython3",
   "version": "3.8.5"
  }
 },
 "nbformat": 4,
 "nbformat_minor": 5
}
