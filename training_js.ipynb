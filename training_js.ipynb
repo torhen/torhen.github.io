{
 "cells": [
  {
   "cell_type": "markdown",
   "id": "4204f06c",
   "metadata": {},
   "source": [
    "*open tic-80 and create a new javascript project*"
   ]
  },
  {
   "cell_type": "raw",
   "id": "80c88635",
   "metadata": {
    "jupyter": {
     "source_hidden": true
    },
    "tags": []
   },
   "source": [
    "> new js\n",
    "new card is created"
   ]
  },
  {
   "cell_type": "markdown",
   "id": "ac14ea00",
   "metadata": {},
   "source": [
    "*delete all text and apply to strict mode*"
   ]
  },
  {
   "cell_type": "raw",
   "id": "aeacbd35",
   "metadata": {
    "jupyter": {
     "source_hidden": true
    },
    "tags": []
   },
   "source": [
    "'use strict'\n",
    "globalThis.TIC=TIC"
   ]
  },
  {
   "cell_type": "markdown",
   "id": "af6868ee",
   "metadata": {},
   "source": [
    "*create a function TIC which empties the screen*"
   ]
  },
  {
   "cell_type": "raw",
   "id": "dc05e203",
   "metadata": {
    "jupyter": {
     "source_hidden": true
    },
    "tags": []
   },
   "source": [
    "function TIC(){\n",
    "    cls()\n",
    "}"
   ]
  },
  {
   "cell_type": "markdown",
   "id": "fd5b9f57",
   "metadata": {},
   "source": [
    "*output 'Hello world!' (x=0, y=0, color=5,scale=3)*"
   ]
  },
  {
   "cell_type": "raw",
   "id": "cd0b886b",
   "metadata": {
    "jupyter": {
     "source_hidden": true
    },
    "tags": []
   },
   "source": [
    "print('Hello world', 0, 0, 5, true, 3)"
   ]
  },
  {
   "cell_type": "markdown",
   "id": "1e1918f9",
   "metadata": {},
   "source": [
    "*create simple sprite and show it on screen*"
   ]
  },
  {
   "cell_type": "raw",
   "id": "cb168ad9",
   "metadata": {
    "jupyter": {
     "source_hidden": true
    },
    "tags": []
   },
   "source": [
    "spr(256,0,0)"
   ]
  },
  {
   "cell_type": "markdown",
   "id": "10de1a2c",
   "metadata": {},
   "source": [
    "*create a constructor function Sprite with parameters sprite_id, x, y*"
   ]
  },
  {
   "cell_type": "raw",
   "id": "85e09a65",
   "metadata": {
    "jupyter": {
     "source_hidden": true
    },
    "tags": []
   },
   "source": [
    "function Sprite(sprite_id,x,y){\n",
    " this.sprite_id=sprite_id\n",
    " this.x=x\n",
    " this.y=y\n",
    "}"
   ]
  },
  {
   "cell_type": "markdown",
   "id": "a8fcb1f7-8796-43be-bf1e-b068a28a6418",
   "metadata": {},
   "source": [
    "*add a method draw()*"
   ]
  },
  {
   "cell_type": "raw",
   "id": "f4c7df5c-0959-4d87-919c-d65e4110700f",
   "metadata": {
    "jupyter": {
     "source_hidden": true
    },
    "tags": []
   },
   "source": [
    "function Sprite(id,x,y){\n",
    " this.id=id\n",
    " this.x=x\n",
    " this.y=y\n",
    " \n",
    " this.draw=function(){\n",
    "  spr(this.id,this.x,this.y)\n",
    " }\n",
    "}"
   ]
  },
  {
   "cell_type": "markdown",
   "id": "33ee848e",
   "metadata": {},
   "source": [
    "*inside PIC create instance of Sprite and draw it*"
   ]
  },
  {
   "cell_type": "raw",
   "id": "1dd8e461",
   "metadata": {
    "jupyter": {
     "source_hidden": true
    },
    "tags": []
   },
   "source": [
    " var s1 = new Sprite(256,100,100)\n",
    " s1.draw()"
   ]
  },
  {
   "cell_type": "markdown",
   "id": "29d58e9d",
   "metadata": {},
   "source": [
    "*create global list lg*"
   ]
  },
  {
   "cell_type": "raw",
   "id": "aab87766",
   "metadata": {
    "jupyter": {
     "source_hidden": true
    },
    "tags": []
   },
   "source": [
    "lg =[]"
   ]
  },
  {
   "cell_type": "markdown",
   "id": "ae9a3a8d",
   "metadata": {},
   "source": [
    "*add sprite to list*"
   ]
  },
  {
   "cell_type": "raw",
   "id": "f96e0eb9",
   "metadata": {
    "jupyter": {
     "source_hidden": true
    },
    "tags": []
   },
   "source": [
    "l.push(new Sprite(256,100,100))"
   ]
  },
  {
   "cell_type": "markdown",
   "id": "0db53312",
   "metadata": {},
   "source": [
    "*inside TIC draw sprite*"
   ]
  },
  {
   "cell_type": "raw",
   "id": "aeac89fb",
   "metadata": {
    "jupyter": {
     "source_hidden": true
    },
    "tags": []
   },
   "source": [
    "l[0].draw()"
   ]
  },
  {
   "cell_type": "markdown",
   "id": "1c10659c",
   "metadata": {},
   "source": [
    "*inside TIC create random value and print it*"
   ]
  },
  {
   "cell_type": "raw",
   "id": "a9fb3b10",
   "metadata": {
    "jupyter": {
     "source_hidden": true
    },
    "tags": []
   },
   "source": [
    "print(Math.random())"
   ]
  },
  {
   "cell_type": "markdown",
   "id": "f81bdd81",
   "metadata": {},
   "source": [
    "*print current date and time*"
   ]
  },
  {
   "cell_type": "raw",
   "id": "4d954fcd",
   "metadata": {
    "jupyter": {
     "source_hidden": true
    },
    "tags": []
   },
   "source": [
    "print(Date())"
   ]
  },
  {
   "cell_type": "code",
   "execution_count": null,
   "id": "2018afd8",
   "metadata": {},
   "outputs": [],
   "source": []
  }
 ],
 "metadata": {
  "kernelspec": {
   "display_name": "Python 3",
   "language": "python",
   "name": "python3"
  },
  "language_info": {
   "codemirror_mode": {
    "name": "ipython",
    "version": 3
   },
   "file_extension": ".py",
   "mimetype": "text/x-python",
   "name": "python",
   "nbconvert_exporter": "python",
   "pygments_lexer": "ipython3",
   "version": "3.8.5"
  }
 },
 "nbformat": 4,
 "nbformat_minor": 5
}
