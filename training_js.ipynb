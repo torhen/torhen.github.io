{
 "cells": [
  {
   "cell_type": "raw",
   "id": "fdb87ba5-9081-498f-af5b-7446373ef17c",
   "metadata": {},
   "source": [
    "open tic-80 webpage"
   ]
  },
  {
   "cell_type": "code",
   "execution_count": null,
   "id": "de2c913d-0004-43b3-8dc6-16ba14dd332e",
   "metadata": {
    "jupyter": {
     "source_hidden": true
    },
    "tags": []
   },
   "outputs": [],
   "source": [
    "https://tic80.com -> create"
   ]
  },
  {
   "cell_type": "raw",
   "id": "881d0312-b97d-4bf1-9a78-0cc482055fe6",
   "metadata": {},
   "source": [
    "create new project in javascript"
   ]
  },
  {
   "cell_type": "raw",
   "id": "4b594a29-5c3e-4ff5-8947-44652dd3d321",
   "metadata": {
    "jupyter": {
     "source_hidden": true
    },
    "tags": []
   },
   "source": [
    ">new js"
   ]
  },
  {
   "cell_type": "raw",
   "id": "4d4b42da-f438-4605-802e-2ec5a06076de",
   "metadata": {},
   "source": [
    "apply strict mode, create main loop"
   ]
  },
  {
   "cell_type": "code",
   "execution_count": null,
   "id": "43a18086-a1e7-4bde-8702-251b9bd988ca",
   "metadata": {
    "jupyter": {
     "source_hidden": true
    },
    "tags": []
   },
   "outputs": [],
   "source": [
    "globalThis.TIC=TIC\n",
    "\n",
    "function TIC(){\n",
    "    cls()\n",
    "}"
   ]
  },
  {
   "cell_type": "code",
   "execution_count": null,
   "id": "546744d6-90c2-41ce-8621-95e6afe4b999",
   "metadata": {},
   "outputs": [],
   "source": [
    "print current date and time"
   ]
  },
  {
   "cell_type": "code",
   "execution_count": null,
   "id": "22ae1c22-902c-41ab-80f7-4ab5e51f1b9b",
   "metadata": {
    "jupyter": {
     "source_hidden": true
    },
    "tags": []
   },
   "outputs": [],
   "source": [
    "print(Date())"
   ]
  },
  {
   "cell_type": "raw",
   "id": "04941ac7-5b2b-4334-8960-82276f47a4a2",
   "metadata": {},
   "source": [
    "draw simple sprite and show on screen"
   ]
  },
  {
   "cell_type": "code",
   "execution_count": null,
   "id": "146f303f-6b34-4888-9362-4c64724dac70",
   "metadata": {
    "jupyter": {
     "source_hidden": true
    },
    "tags": []
   },
   "outputs": [],
   "source": [
    "spr(257)"
   ]
  },
  {
   "cell_type": "markdown",
   "id": "ab7bef80-e2f8-42a3-a28f-87d07f700517",
   "metadata": {},
   "source": [
    "create constructor Sprite(x,y) with draw() function"
   ]
  },
  {
   "cell_type": "markdown",
   "id": "b4c3a709-2cd8-4887-8da8-3f58f97168b4",
   "metadata": {
    "jupyter": {
     "source_hidden": true
    },
    "tags": []
   },
   "source": [
    "function Sprite(x, y){\n",
    "    this.x=x\n",
    "    this.y=y\n",
    "    this.draw=function(){\n",
    "        spr(257, this.x, this.y)\n",
    "    }\n",
    "}"
   ]
  },
  {
   "cell_type": "markdown",
   "id": "26b21508-8d00-47b0-8abf-3c158dc4696e",
   "metadata": {},
   "source": [
    "add update function to move sprite"
   ]
  },
  {
   "cell_type": "raw",
   "id": "cfcb18cc-b803-4c34-8f4d-a0c6d73c3700",
   "metadata": {
    "jupyter": {
     "source_hidden": true
    },
    "tags": []
   },
   "source": [
    "this.update=function(){\n",
    "    this.x++\n",
    "    this.y++\n",
    "}"
   ]
  },
  {
   "cell_type": "raw",
   "id": "131db618-c0d5-4f17-8665-0061ef229706",
   "metadata": {},
   "source": [
    "change update() to reflect sprite at borders"
   ]
  },
  {
   "cell_type": "raw",
   "id": "5a406a6f-f221-49fe-a2f8-69cac6bb7049",
   "metadata": {
    "jupyter": {
     "source_hidden": true
    },
    "tags": []
   },
   "source": [
    "if(this.x<0 || this.x>220) this.dx=-this.dx\n",
    "if(this.y<0 || this.y>120) this.dy=-this.dy"
   ]
  },
  {
   "cell_type": "markdown",
   "id": "4eeac51f-8a0b-4918-8ee7-2da88a9109bc",
   "metadata": {},
   "source": [
    "add sprite to list"
   ]
  },
  {
   "cell_type": "raw",
   "id": "884e6707-3761-45cf-809b-cf7acd9039e0",
   "metadata": {
    "jupyter": {
     "source_hidden": true
    },
    "tags": []
   },
   "source": [
    "var li=[]\n",
    "li.push(s)\n",
    "\n",
    "li[0].update()\n",
    "li[0].draw()"
   ]
  },
  {
   "cell_type": "markdown",
   "id": "a15d835a-53dc-4db7-9596-2061a86382ce",
   "metadata": {},
   "source": [
    "on event button 0 pressed add sprite"
   ]
  },
  {
   "cell_type": "raw",
   "id": "ee090f1c-584d-4b28-8d07-73102b6501a9",
   "metadata": {
    "jupyter": {
     "source_hidden": true
    },
    "tags": []
   },
   "source": [
    "if (btn(0)){\n",
    "    s=new Sprite(100,100,Math.random(),Math.random)\n",
    "    li.push(s)\n",
    "}"
   ]
  },
  {
   "cell_type": "code",
   "execution_count": null,
   "id": "5ecd0bc7-e068-40b2-ad03-275eddb8ef41",
   "metadata": {
    "tags": []
   },
   "outputs": [],
   "source": [
    "on eveent button 1 to delete sprite"
   ]
  },
  {
   "cell_type": "raw",
   "id": "fbf5d07f-9bf1-480b-b94a-b1fe533e3303",
   "metadata": {
    "jupyter": {
     "source_hidden": true
    },
    "tags": []
   },
   "source": [
    "if (btn(0)){\n",
    "    s=new Sprite(100,100,Math.random(),Math.random)\n",
    "    li.pop()\n",
    "}"
   ]
  }
 ],
 "metadata": {
  "kernelspec": {
   "display_name": "Python 3",
   "language": "python",
   "name": "python3"
  },
  "language_info": {
   "codemirror_mode": {
    "name": "ipython",
    "version": 3
   },
   "file_extension": ".py",
   "mimetype": "text/x-python",
   "name": "python",
   "nbconvert_exporter": "python",
   "pygments_lexer": "ipython3",
   "version": "3.8.5"
  }
 },
 "nbformat": 4,
 "nbformat_minor": 5
}
