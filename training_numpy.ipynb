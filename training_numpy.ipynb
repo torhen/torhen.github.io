{
 "cells": [
  {
   "cell_type": "code",
   "execution_count": null,
   "id": "1f7bbbe0-3fac-468c-9c06-dbe98ae28723",
   "metadata": {},
   "outputs": [],
   "source": [
    "# import numpy"
   ]
  },
  {
   "cell_type": "code",
   "execution_count": null,
   "id": "80bd82ce-ee07-485c-9307-9b3bd8cd1341",
   "metadata": {
    "jupyter": {
     "source_hidden": true
    },
    "tags": []
   },
   "outputs": [],
   "source": [
    "import numpy as np"
   ]
  },
  {
   "cell_type": "code",
   "execution_count": null,
   "id": "29d4a9ee-a7b8-4a92-8874-95355733fe4e",
   "metadata": {},
   "outputs": [],
   "source": [
    "# create array ar of 12 values linear from 0 to 1"
   ]
  },
  {
   "cell_type": "code",
   "execution_count": null,
   "id": "21fe26d4-fd92-46c6-93de-3eddd74cf9a5",
   "metadata": {
    "jupyter": {
     "source_hidden": true
    },
    "tags": []
   },
   "outputs": [],
   "source": [
    "ar = np.linspace(0, 1, 12)"
   ]
  },
  {
   "cell_type": "code",
   "execution_count": null,
   "id": "b70d71d3-2be8-4118-8dc5-b6403d2fba56",
   "metadata": {},
   "outputs": [],
   "source": [
    "# convert ar to array of 3 rows with 4 columns"
   ]
  },
  {
   "cell_type": "code",
   "execution_count": null,
   "id": "35af5b44-0227-4f13-868b-46417de7bd20",
   "metadata": {
    "jupyter": {
     "source_hidden": true
    },
    "tags": []
   },
   "outputs": [],
   "source": [
    "ar = ar.reshape(3, 4)"
   ]
  },
  {
   "cell_type": "code",
   "execution_count": null,
   "id": "05c03f86-5156-41f9-b73d-37dc25a56cba",
   "metadata": {},
   "outputs": [],
   "source": [
    "# get dimensions of ar"
   ]
  },
  {
   "cell_type": "code",
   "execution_count": null,
   "id": "24bf659d-9c40-4d07-af4d-e81482ac2e8a",
   "metadata": {
    "jupyter": {
     "source_hidden": true
    },
    "tags": []
   },
   "outputs": [],
   "source": [
    "ar.shape"
   ]
  },
  {
   "cell_type": "code",
   "execution_count": null,
   "id": "293236fc-9aba-42cc-833e-3f5b5af84812",
   "metadata": {},
   "outputs": [],
   "source": [
    "# set only values < 0.5 to 0"
   ]
  },
  {
   "cell_type": "code",
   "execution_count": null,
   "id": "9f124924-172b-4e87-a7b9-d02880d90945",
   "metadata": {
    "jupyter": {
     "source_hidden": true
    },
    "tags": []
   },
   "outputs": [],
   "source": [
    "np.where(ar<0.5, 0, ar)"
   ]
  },
  {
   "cell_type": "code",
   "execution_count": null,
   "id": "d3b26479-32ba-4078-841b-1980fc26fe5a",
   "metadata": {},
   "outputs": [],
   "source": [
    "# create array ra of random values with 3 rows and 4 colums"
   ]
  },
  {
   "cell_type": "code",
   "execution_count": null,
   "id": "68b211c5-1f25-4455-a5a7-c31953c06777",
   "metadata": {
    "jupyter": {
     "source_hidden": true
    },
    "tags": []
   },
   "outputs": [],
   "source": [
    "ra = np.random.rand(3, 4)"
   ]
  },
  {
   "cell_type": "code",
   "execution_count": null,
   "id": "b0d65a12-afde-4f4a-871e-84c9aa635120",
   "metadata": {},
   "outputs": [],
   "source": [
    "# slice the first two rows and the last 3 columns"
   ]
  },
  {
   "cell_type": "code",
   "execution_count": null,
   "id": "66787a50-f412-47b4-b43e-81d966056d7a",
   "metadata": {
    "jupyter": {
     "source_hidden": true
    },
    "tags": []
   },
   "outputs": [],
   "source": [
    "ra[:2, -3:]"
   ]
  },
  {
   "cell_type": "code",
   "execution_count": null,
   "id": "4840c9ba-21f2-46b0-ba41-506ee4b94d3e",
   "metadata": {},
   "outputs": [],
   "source": [
    "# revert the order of lines"
   ]
  },
  {
   "cell_type": "code",
   "execution_count": null,
   "id": "5e32bea8-4bbc-4094-847d-12fbeb788b2b",
   "metadata": {
    "jupyter": {
     "source_hidden": true
    },
    "tags": []
   },
   "outputs": [],
   "source": [
    "ra[::-1]"
   ]
  },
  {
   "cell_type": "code",
   "execution_count": null,
   "id": "322077b3-064f-435e-9109-233cd478fbe6",
   "metadata": {},
   "outputs": [],
   "source": [
    "# import matplotlib python interface"
   ]
  },
  {
   "cell_type": "code",
   "execution_count": null,
   "id": "699d7ecb-c7fc-4506-84c5-2acd1dd122b1",
   "metadata": {
    "jupyter": {
     "source_hidden": true
    },
    "tags": []
   },
   "outputs": [],
   "source": [
    "import matplotlib.pyplot as plt"
   ]
  },
  {
   "cell_type": "code",
   "execution_count": null,
   "id": "bb1d5aa5-0b4f-4659-87e9-e00f588f7ebe",
   "metadata": {},
   "outputs": [],
   "source": [
    "# show ra as bitmap"
   ]
  },
  {
   "cell_type": "code",
   "execution_count": null,
   "id": "2ec18eda-52da-4106-905b-c6f495009926",
   "metadata": {
    "jupyter": {
     "source_hidden": true
    },
    "tags": []
   },
   "outputs": [],
   "source": [
    "plt.imshow(ar)"
   ]
  },
  {
   "cell_type": "code",
   "execution_count": null,
   "id": "cec946b1-3ac3-44ad-b57c-cb67d751e85c",
   "metadata": {},
   "outputs": [],
   "source": [
    "# create array fl of integer zeros with shape 3, 4, 3"
   ]
  },
  {
   "cell_type": "code",
   "execution_count": null,
   "id": "23df1c8b-d1a0-4161-82ce-9e8275ff69f5",
   "metadata": {
    "jupyter": {
     "source_hidden": true
    },
    "tags": []
   },
   "outputs": [],
   "source": [
    "fl = np.zeros(shape=(3,4,3), dtype=int)"
   ]
  },
  {
   "cell_type": "code",
   "execution_count": null,
   "id": "4f86dbc1-a70a-43fb-afe5-f04e04a13444",
   "metadata": {},
   "outputs": [],
   "source": [
    "# set line to black, red, yellow, show as image"
   ]
  },
  {
   "cell_type": "code",
   "execution_count": null,
   "id": "f9498d9d-2727-446c-960d-6886cd904b1e",
   "metadata": {
    "jupyter": {
     "source_hidden": true
    },
    "tags": []
   },
   "outputs": [],
   "source": [
    "fl[0,:] = [0, 0, 0]\n",
    "fl[1,:] = [255, 0, 0]\n",
    "fl[2,:] = [255,255,0]\n",
    "plt.imshow(fl)"
   ]
  },
  {
   "cell_type": "code",
   "execution_count": null,
   "id": "5ce1be91-558f-4481-b56c-f63c972e3bb5",
   "metadata": {},
   "outputs": [],
   "source": [
    "# create coordinate matrix 0..5, 0..3"
   ]
  },
  {
   "cell_type": "code",
   "execution_count": null,
   "id": "502d5bd1-ea3c-47c5-9806-a1c59520486f",
   "metadata": {
    "jupyter": {
     "source_hidden": true
    },
    "tags": []
   },
   "outputs": [],
   "source": [
    "xv, yv = np.meshgrid(range(5), range(3))"
   ]
  },
  {
   "cell_type": "code",
   "execution_count": null,
   "id": "05afaa2a-43ee-49e5-9069-385105d6e187",
   "metadata": {},
   "outputs": [],
   "source": []
  }
 ],
 "metadata": {
  "kernelspec": {
   "display_name": "Python 3",
   "language": "python",
   "name": "python3"
  },
  "language_info": {
   "codemirror_mode": {
    "name": "ipython",
    "version": 3
   },
   "file_extension": ".py",
   "mimetype": "text/x-python",
   "name": "python",
   "nbconvert_exporter": "python",
   "pygments_lexer": "ipython3",
   "version": "3.8.5"
  }
 },
 "nbformat": 4,
 "nbformat_minor": 5
}
