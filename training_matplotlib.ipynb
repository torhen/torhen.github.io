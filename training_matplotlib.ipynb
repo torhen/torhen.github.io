{
 "cells": [
  {
   "cell_type": "code",
   "execution_count": null,
   "id": "3270b857-a721-419e-a6f5-754edcf72ca1",
   "metadata": {},
   "outputs": [],
   "source": [
    "# import pandas, numpy and matplotlib"
   ]
  },
  {
   "cell_type": "code",
   "execution_count": null,
   "id": "796bc7db-3558-4979-a1f9-39b2b742173d",
   "metadata": {
    "jupyter": {
     "source_hidden": true
    },
    "tags": []
   },
   "outputs": [],
   "source": [
    "import pandas as pd\n",
    "import numpy as np\n",
    "import matplotlib.pyplot as plt"
   ]
  },
  {
   "cell_type": "code",
   "execution_count": null,
   "id": "503b1068-d593-40cb-9383-510028c5997a",
   "metadata": {},
   "outputs": [],
   "source": [
    "# create numpy array x with 100 values from 0..2 * pi"
   ]
  },
  {
   "cell_type": "code",
   "execution_count": null,
   "id": "1d2d9ef4-b101-4acc-af69-ba7af9a05a9f",
   "metadata": {
    "jupyter": {
     "source_hidden": true
    },
    "tags": []
   },
   "outputs": [],
   "source": [
    "x = np.linspace(0, np.pi * 2, 100)"
   ]
  },
  {
   "cell_type": "code",
   "execution_count": null,
   "id": "dee99b15-daa2-4985-b615-b0c0668e612c",
   "metadata": {
    "tags": []
   },
   "outputs": [],
   "source": [
    "# create numpy arrays sinx and cosx"
   ]
  },
  {
   "cell_type": "code",
   "execution_count": null,
   "id": "8bb2159d-a79a-4f97-8cc3-d9112584c358",
   "metadata": {
    "jupyter": {
     "source_hidden": true
    },
    "tags": []
   },
   "outputs": [],
   "source": [
    "sinx = np.sin(x)\n",
    "cosx = np.cos(x)"
   ]
  },
  {
   "cell_type": "code",
   "execution_count": null,
   "id": "e3754f97-4469-4862-a7c6-7886aa572df6",
   "metadata": {},
   "outputs": [],
   "source": [
    "# create matplotlib figure fig of size 5 x 5 inches"
   ]
  },
  {
   "cell_type": "code",
   "execution_count": null,
   "id": "eb0125a9-339f-4816-91c8-edac43841c29",
   "metadata": {
    "jupyter": {
     "source_hidden": true
    },
    "tags": []
   },
   "outputs": [],
   "source": [
    "fig = plt.figure(figsize = (5, 5))"
   ]
  },
  {
   "cell_type": "code",
   "execution_count": null,
   "id": "af9fc8d3-ad1b-445e-af58-d0f17fd1292c",
   "metadata": {},
   "outputs": [],
   "source": [
    "# add two subplots in two lines"
   ]
  },
  {
   "cell_type": "code",
   "execution_count": null,
   "id": "de1ba624-0d33-44a6-a130-ac6eb8cca23b",
   "metadata": {
    "jupyter": {
     "source_hidden": true
    },
    "tags": []
   },
   "outputs": [],
   "source": [
    "ax1 = fig.add_subplot(211)\n",
    "ax2 = fig.add_subplot(212)\n",
    "fig"
   ]
  },
  {
   "cell_type": "code",
   "execution_count": null,
   "id": "056fa217-14cb-4093-b3f1-a697afa92c80",
   "metadata": {},
   "outputs": [],
   "source": [
    "# plot sin in the first and cos in the second subplot"
   ]
  },
  {
   "cell_type": "code",
   "execution_count": null,
   "id": "bc731463-1b8e-4b40-942b-07d5e0af60d0",
   "metadata": {
    "jupyter": {
     "source_hidden": true
    },
    "tags": []
   },
   "outputs": [],
   "source": [
    "ax1.plot(x, sinx)\n",
    "ax2.plot(x, cosx)\n",
    "fig"
   ]
  },
  {
   "cell_type": "code",
   "execution_count": null,
   "id": "64e2ac77-6965-4a88-a4b9-e378b2ae9588",
   "metadata": {},
   "outputs": [],
   "source": [
    "# add lables 'sin' and cos and show legend"
   ]
  },
  {
   "cell_type": "code",
   "execution_count": null,
   "id": "bea50f1d-600a-484f-8fc0-2bc9f8ba7909",
   "metadata": {
    "jupyter": {
     "source_hidden": true
    },
    "tags": []
   },
   "outputs": [],
   "source": [
    "ax1.plot(x, sinx, label='sin')\n",
    "ax2.plot(x, cosx, label='cos')\n",
    "ax1.legend()\n",
    "ax2.legend()\n",
    "fig"
   ]
  },
  {
   "cell_type": "code",
   "execution_count": null,
   "id": "e6f6c13e-8a91-47d4-9bcf-c2ff1acdf4c5",
   "metadata": {},
   "outputs": [],
   "source": [
    "# set grid for both"
   ]
  },
  {
   "cell_type": "code",
   "execution_count": null,
   "id": "0b4b9432-69e1-4d7b-8882-4e8250e7967d",
   "metadata": {
    "jupyter": {
     "source_hidden": true
    },
    "tags": []
   },
   "outputs": [],
   "source": [
    "ax1.grid(True)\n",
    "ax2.grid(True)\n",
    "fig"
   ]
  },
  {
   "cell_type": "code",
   "execution_count": null,
   "id": "5f8054b3-491e-45e4-b264-ed515ff03412",
   "metadata": {},
   "outputs": [],
   "source": [
    "# create list cats from 0..4"
   ]
  },
  {
   "cell_type": "code",
   "execution_count": null,
   "id": "2e98b8d9-5a68-40f5-9173-c4b019f35f26",
   "metadata": {
    "jupyter": {
     "source_hidden": true
    },
    "tags": []
   },
   "outputs": [],
   "source": [
    "cats = range(5)"
   ]
  },
  {
   "cell_type": "code",
   "execution_count": null,
   "id": "0d3e239a-dc43-40af-a2a4-dbbf9cdfd9fb",
   "metadata": {},
   "outputs": [],
   "source": [
    "# create list of 5 random values"
   ]
  },
  {
   "cell_type": "code",
   "execution_count": null,
   "id": "82736970-62d7-4a6d-aeaf-a262f5baa9be",
   "metadata": {
    "jupyter": {
     "source_hidden": true
    },
    "tags": []
   },
   "outputs": [],
   "source": [
    "import random\n",
    "vals = [random.random() for _ in cats]\n",
    "vals"
   ]
  },
  {
   "cell_type": "code",
   "execution_count": null,
   "id": "9649f629-0b0d-4fd1-b569-a1c020cbce58",
   "metadata": {},
   "outputs": [],
   "source": [
    "# create figure and add subplot"
   ]
  },
  {
   "cell_type": "code",
   "execution_count": null,
   "id": "0ddf44a7-d322-458b-a471-7fbce3af993d",
   "metadata": {
    "jupyter": {
     "source_hidden": true
    },
    "tags": []
   },
   "outputs": [],
   "source": [
    "fig = plt.Figure()\n",
    "ax = fig.add_subplot()\n",
    "fig"
   ]
  },
  {
   "cell_type": "code",
   "execution_count": null,
   "id": "70ce3eff-a5c0-4ce0-8723-a5c99f0610d9",
   "metadata": {},
   "outputs": [],
   "source": [
    "# create barplot for cats and vals"
   ]
  },
  {
   "cell_type": "code",
   "execution_count": null,
   "id": "4f0cbf7d-06f7-45fc-8c74-8e3e43dd41ec",
   "metadata": {
    "jupyter": {
     "source_hidden": true
    },
    "tags": []
   },
   "outputs": [],
   "source": [
    "ax.bar(cats, vals)\n",
    "fig"
   ]
  },
  {
   "cell_type": "code",
   "execution_count": null,
   "id": "f51a46b4-461d-45a5-947e-17b9932b3635",
   "metadata": {},
   "outputs": [],
   "source": [
    "# add data labels"
   ]
  },
  {
   "cell_type": "code",
   "execution_count": null,
   "id": "f2956f9f-b632-493c-a8ed-48239d65c05b",
   "metadata": {
    "jupyter": {
     "source_hidden": true
    },
    "tags": []
   },
   "outputs": [],
   "source": [
    "for p in ax.patches:\n",
    "    ax.annotate(p.get_height(), (p.get_x(), p.get_height()))\n",
    "fig"
   ]
  },
  {
   "cell_type": "code",
   "execution_count": null,
   "id": "03cea107-a990-4112-afb8-0242f65f9143",
   "metadata": {},
   "outputs": [],
   "source": []
  }
 ],
 "metadata": {
  "kernelspec": {
   "display_name": "Python 3",
   "language": "python",
   "name": "python3"
  },
  "language_info": {
   "codemirror_mode": {
    "name": "ipython",
    "version": 3
   },
   "file_extension": ".py",
   "mimetype": "text/x-python",
   "name": "python",
   "nbconvert_exporter": "python",
   "pygments_lexer": "ipython3",
   "version": "3.8.5"
  }
 },
 "nbformat": 4,
 "nbformat_minor": 5
}
