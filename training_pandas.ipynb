{
 "cells": [
  {
   "cell_type": "code",
   "execution_count": null,
   "id": "c48f659b",
   "metadata": {},
   "outputs": [],
   "source": [
    "# import pandas"
   ]
  },
  {
   "cell_type": "code",
   "execution_count": null,
   "id": "c0f31664",
   "metadata": {
    "jupyter": {
     "source_hidden": true
    },
    "tags": []
   },
   "outputs": [],
   "source": [
    "import numpy as np\n",
    "import pandas as pd"
   ]
  },
  {
   "cell_type": "code",
   "execution_count": null,
   "id": "d1785486",
   "metadata": {},
   "outputs": [],
   "source": [
    "# allow display of up to 200 columns"
   ]
  },
  {
   "cell_type": "code",
   "execution_count": null,
   "id": "e7be843b",
   "metadata": {
    "jupyter": {
     "source_hidden": true
    },
    "tags": []
   },
   "outputs": [],
   "source": [
    "pd.options.display.max_columns = 200"
   ]
  },
  {
   "cell_type": "code",
   "execution_count": null,
   "id": "f9406726",
   "metadata": {},
   "outputs": [],
   "source": [
    "# allow to display columns with up to 200 characters"
   ]
  },
  {
   "cell_type": "code",
   "execution_count": null,
   "id": "83a4c71e",
   "metadata": {
    "jupyter": {
     "source_hidden": true
    },
    "tags": []
   },
   "outputs": [],
   "source": [
    "pd.options.display.max_colwidth = 200"
   ]
  },
  {
   "cell_type": "code",
   "execution_count": null,
   "id": "69475035",
   "metadata": {},
   "outputs": [],
   "source": [
    "# create df: Torsten has scores 1, 2, 2 and Chantal 2 and 3"
   ]
  },
  {
   "cell_type": "code",
   "execution_count": null,
   "id": "b0dbcb80",
   "metadata": {
    "jupyter": {
     "source_hidden": true
    },
    "tags": []
   },
   "outputs": [],
   "source": [
    "df = pd.DataFrame({\n",
    "    'person' : ['Torsten', 'Torsten', 'Torsten', 'Chantal', 'Chantal'],\n",
    "    'score' : [1, 2, 2 , 2, 3]\n",
    "})\n",
    "df"
   ]
  },
  {
   "cell_type": "code",
   "execution_count": null,
   "id": "97a97d34",
   "metadata": {},
   "outputs": [],
   "source": [
    "# add column 'person_mean' containing score mean for every person"
   ]
  },
  {
   "cell_type": "code",
   "execution_count": null,
   "id": "4b1f9310",
   "metadata": {
    "jupyter": {
     "source_hidden": true
    },
    "tags": []
   },
   "outputs": [],
   "source": [
    "df = df.assign(person_mean = lambda x: x.groupby('person')['score'].transform('mean'))\n",
    "df"
   ]
  },
  {
   "cell_type": "code",
   "execution_count": null,
   "id": "387b7c5f",
   "metadata": {},
   "outputs": [],
   "source": [
    "# move colum person_mean to to second place (method chaining)"
   ]
  },
  {
   "cell_type": "code",
   "execution_count": null,
   "id": "f9bfa590",
   "metadata": {
    "jupyter": {
     "source_hidden": true
    },
    "tags": []
   },
   "outputs": [],
   "source": [
    "df.loc[:, lambda x: x.columns.insert(1, x.columns[-1])[:-1]]"
   ]
  },
  {
   "cell_type": "code",
   "execution_count": null,
   "id": "029a6c83",
   "metadata": {},
   "outputs": [],
   "source": [
    "# make all columns lower case"
   ]
  },
  {
   "cell_type": "raw",
   "id": "7196ecb3",
   "metadata": {
    "jupyter": {
     "source_hidden": true
    },
    "tags": []
   },
   "source": [
    "df.rename(columns=str.lower)"
   ]
  }
 ],
 "metadata": {
  "kernelspec": {
   "display_name": "Python 3",
   "language": "python",
   "name": "python3"
  },
  "language_info": {
   "codemirror_mode": {
    "name": "ipython",
    "version": 3
   },
   "file_extension": ".py",
   "mimetype": "text/x-python",
   "name": "python",
   "nbconvert_exporter": "python",
   "pygments_lexer": "ipython3",
   "version": "3.7.10"
  }
 },
 "nbformat": 4,
 "nbformat_minor": 5
}
