{
 "cells": [
  {
   "cell_type": "code",
   "execution_count": null,
   "id": "7a8911eb-33c6-46ac-a247-718aab07f2b2",
   "metadata": {},
   "outputs": [],
   "source": [
    "# import pandas"
   ]
  },
  {
   "cell_type": "code",
   "execution_count": null,
   "id": "56cfbc38-c23c-480d-9284-03c926e1433d",
   "metadata": {
    "jupyter": {
     "source_hidden": true
    },
    "tags": []
   },
   "outputs": [],
   "source": [
    "import numpy as np\n",
    "import pandas as pd"
   ]
  },
  {
   "cell_type": "code",
   "execution_count": null,
   "id": "a515fa4f-e273-4d23-b354-0cf8d081fe3f",
   "metadata": {},
   "outputs": [],
   "source": [
    "# allow display of up to 200 columns"
   ]
  },
  {
   "cell_type": "code",
   "execution_count": null,
   "id": "7c3e192b-4c90-48d7-ad89-ab93f2b1c8d1",
   "metadata": {
    "jupyter": {
     "source_hidden": true
    },
    "tags": []
   },
   "outputs": [],
   "source": [
    "pd.options.display.max_columns = 200"
   ]
  },
  {
   "cell_type": "code",
   "execution_count": null,
   "id": "c6f327e4-421e-436f-9790-753dd82afcff",
   "metadata": {},
   "outputs": [],
   "source": [
    "# allow to display columns with up to 200 characters"
   ]
  },
  {
   "cell_type": "code",
   "execution_count": null,
   "id": "cb2c6fe4-b492-4b07-ba2e-79f14c0ec171",
   "metadata": {
    "jupyter": {
     "source_hidden": true
    },
    "tags": []
   },
   "outputs": [],
   "source": [
    "pd.options.display.max_colwidth = 200"
   ]
  },
  {
   "cell_type": "code",
   "execution_count": null,
   "id": "8ce20643-d6db-47fe-8c52-0b2b9f625d19",
   "metadata": {},
   "outputs": [],
   "source": [
    "# create df: Torsten has scores 1, 2, 2 and Chantal 2 and 3"
   ]
  },
  {
   "cell_type": "code",
   "execution_count": null,
   "id": "7e9c36bc-2e40-445e-958a-f0068f888ca5",
   "metadata": {
    "jupyter": {
     "source_hidden": true
    },
    "tags": []
   },
   "outputs": [],
   "source": [
    "df = pd.DataFrame({\n",
    "    'person' : ['Torsten', 'Torsten', 'Torsten', 'Chantal', 'Chantal'],\n",
    "    'score' : [1, 2, 2 , 2, 3]\n",
    "})\n",
    "df"
   ]
  },
  {
   "cell_type": "code",
   "execution_count": null,
   "id": "d51da8f0-7018-4d01-b591-f7613ac7e92f",
   "metadata": {},
   "outputs": [],
   "source": [
    "# add column 'person_mean' containing score mean for every person"
   ]
  },
  {
   "cell_type": "code",
   "execution_count": null,
   "id": "2aa36949-18fc-4971-ac47-a5bd4d245dc8",
   "metadata": {
    "jupyter": {
     "source_hidden": true
    },
    "tags": []
   },
   "outputs": [],
   "source": [
    "df = df.assign(person_mean = lambda x: x.groupby('person')['score'].transform('mean'))\n",
    "df"
   ]
  },
  {
   "cell_type": "code",
   "execution_count": null,
   "id": "5116d3fa-ea5e-4064-9951-e1d7ffc73717",
   "metadata": {},
   "outputs": [],
   "source": [
    "# move colum person_mean to to second place (method chaining)"
   ]
  },
  {
   "cell_type": "code",
   "execution_count": null,
   "id": "f09c517b-d3e3-4c11-9455-e5a9c23f2d29",
   "metadata": {
    "jupyter": {
     "source_hidden": true
    },
    "tags": []
   },
   "outputs": [],
   "source": [
    "df.loc[:, lambda x: x.columns.insert(1, x.columns[-1])[:-1]]"
   ]
  },
  {
   "cell_type": "code",
   "execution_count": null,
   "id": "700f5eaf-b93b-42f2-88fe-715e72380b05",
   "metadata": {},
   "outputs": [],
   "source": []
  }
 ],
 "metadata": {
  "kernelspec": {
   "display_name": "Python 3",
   "language": "python",
   "name": "python3"
  },
  "language_info": {
   "codemirror_mode": {
    "name": "ipython",
    "version": 3
   },
   "file_extension": ".py",
   "mimetype": "text/x-python",
   "name": "python",
   "nbconvert_exporter": "python",
   "pygments_lexer": "ipython3",
   "version": "3.8.5"
  }
 },
 "nbformat": 4,
 "nbformat_minor": 5
}
