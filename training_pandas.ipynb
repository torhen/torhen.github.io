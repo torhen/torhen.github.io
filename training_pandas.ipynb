{
 "cells": [
  {
   "cell_type": "code",
   "execution_count": null,
   "id": "56cfbc38-c23c-480d-9284-03c926e1433d",
   "metadata": {},
   "outputs": [],
   "source": [
    "import numpy as np\n",
    "import pandas as pd"
   ]
  },
  {
   "cell_type": "code",
   "execution_count": null,
   "id": "a515fa4f-e273-4d23-b354-0cf8d081fe3f",
   "metadata": {},
   "outputs": [],
   "source": [
    "# allow 200 columns"
   ]
  },
  {
   "cell_type": "code",
   "execution_count": null,
   "id": "7c3e192b-4c90-48d7-ad89-ab93f2b1c8d1",
   "metadata": {
    "jupyter": {
     "source_hidden": true
    },
    "tags": []
   },
   "outputs": [],
   "source": [
    "pd.options.display.max_columns = 200"
   ]
  },
  {
   "cell_type": "code",
   "execution_count": null,
   "id": "c6f327e4-421e-436f-9790-753dd82afcff",
   "metadata": {},
   "outputs": [],
   "source": [
    "# allow columns with 200 characters"
   ]
  },
  {
   "cell_type": "code",
   "execution_count": null,
   "id": "cb2c6fe4-b492-4b07-ba2e-79f14c0ec171",
   "metadata": {
    "jupyter": {
     "source_hidden": true
    },
    "tags": []
   },
   "outputs": [],
   "source": [
    "pd.options.display.max_colwidth = 200"
   ]
  },
  {
   "cell_type": "code",
   "execution_count": null,
   "id": "7e9c36bc-2e40-445e-958a-f0068f888ca5",
   "metadata": {},
   "outputs": [],
   "source": [
    "df = pd.DataFrame({\n",
    "    'a' : [1,2,3],\n",
    "    'b' : [1,2,3],\n",
    "    'c' : [1,2,3]\n",
    "})"
   ]
  },
  {
   "cell_type": "code",
   "execution_count": null,
   "id": "5116d3fa-ea5e-4064-9951-e1d7ffc73717",
   "metadata": {},
   "outputs": [],
   "source": [
    "# create column x = 0 and move it to second place (method chaining)"
   ]
  },
  {
   "cell_type": "code",
   "execution_count": null,
   "id": "3159c68e-47ec-45c2-bfb8-1c9ac9ae5cd0",
   "metadata": {
    "jupyter": {
     "source_hidden": true
    },
    "tags": []
   },
   "outputs": [],
   "source": [
    "df.assign(x = 0).loc[:, lambda x: x.columns.insert(1, x.columns[-1])[:-1]]"
   ]
  },
  {
   "cell_type": "code",
   "execution_count": null,
   "id": "87e31c4e-ed54-4fc5-bfad-fb62f8df27dd",
   "metadata": {},
   "outputs": [],
   "source": []
  }
 ],
 "metadata": {
  "kernelspec": {
   "display_name": "Python 3",
   "language": "python",
   "name": "python3"
  },
  "language_info": {
   "codemirror_mode": {
    "name": "ipython",
    "version": 3
   },
   "file_extension": ".py",
   "mimetype": "text/x-python",
   "name": "python",
   "nbconvert_exporter": "python",
   "pygments_lexer": "ipython3",
   "version": "3.8.5"
  }
 },
 "nbformat": 4,
 "nbformat_minor": 5
}
